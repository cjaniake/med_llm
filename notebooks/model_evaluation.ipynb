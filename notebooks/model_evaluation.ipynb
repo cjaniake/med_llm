{
 "cells": [
  {
   "cell_type": "code",
   "execution_count": 11,
   "metadata": {},
   "outputs": [],
   "source": [
    "import evaluate\n",
    "import json\n",
    "import matplotlib.pyplot as plt\n",
    "import os\n",
    "import pandas as pd\n",
    "import seaborn as sns\n",
    "\n",
    "from groq import Groq, RateLimitError"
   ]
  },
  {
   "cell_type": "code",
   "execution_count": 12,
   "metadata": {},
   "outputs": [
    {
     "name": "stdout",
     "output_type": "stream",
     "text": [
      "(14981, 3)\n",
      "(14973, 3)\n"
     ]
    }
   ],
   "source": [
    "preferences_df = pd.read_csv(\"preprocessed_data.csv\", index_col=0)\n",
    "print(preferences_df.shape)\n",
    "print(preferences_df.dropna().shape)"
   ]
  },
  {
   "cell_type": "code",
   "execution_count": 13,
   "metadata": {},
   "outputs": [],
   "source": [
    "TEST_SIZE = 0.2\n",
    "eval_df = preferences_df.sample(frac=TEST_SIZE, random_state=0)\n",
    "train_df = preferences_df[~preferences_df.index.isin(eval_df.index)].sample(frac=1.0)"
   ]
  },
  {
   "cell_type": "code",
   "execution_count": 14,
   "metadata": {},
   "outputs": [
    {
     "name": "stdout",
     "output_type": "stream",
     "text": [
      "(2996, 3)\n"
     ]
    },
    {
     "data": {
      "text/html": [
       "<div>\n",
       "<style scoped>\n",
       "    .dataframe tbody tr th:only-of-type {\n",
       "        vertical-align: middle;\n",
       "    }\n",
       "\n",
       "    .dataframe tbody tr th {\n",
       "        vertical-align: top;\n",
       "    }\n",
       "\n",
       "    .dataframe thead th {\n",
       "        text-align: right;\n",
       "    }\n",
       "</style>\n",
       "<table border=\"1\" class=\"dataframe\">\n",
       "  <thead>\n",
       "    <tr style=\"text-align: right;\">\n",
       "      <th></th>\n",
       "      <th>question</th>\n",
       "      <th>answer</th>\n",
       "      <th>incorrect_answer</th>\n",
       "    </tr>\n",
       "  </thead>\n",
       "  <tbody>\n",
       "    <tr>\n",
       "      <th>13212</th>\n",
       "      <td>What is (are) ataxia with oculomotor apraxia ?</td>\n",
       "      <td>Ataxia with oculomotor apraxia is a condition ...</td>\n",
       "      <td>Ataxia with oculomotor apraxia (AOA) is a sing...</td>\n",
       "    </tr>\n",
       "    <tr>\n",
       "      <th>4942</th>\n",
       "      <td>What are the symptoms of Anencephaly ?</td>\n",
       "      <td>What are the signs and symptoms of Anencephaly...</td>\n",
       "      <td>Anencephaly primarily presents with symptoms r...</td>\n",
       "    </tr>\n",
       "    <tr>\n",
       "      <th>3730</th>\n",
       "      <td>What are the genetic changes related to D-bifu...</td>\n",
       "      <td>D-bifunctional protein deficiency is caused by...</td>\n",
       "      <td>Genetic changes in D-bifunctional protein defi...</td>\n",
       "    </tr>\n",
       "    <tr>\n",
       "      <th>5979</th>\n",
       "      <td>What are the symptoms of Hypersensitivity Pneu...</td>\n",
       "      <td>Signs and symptoms of hypersensitivity pneumon...</td>\n",
       "      <td>Hypersensitivity Pneumonitis symptoms vary dep...</td>\n",
       "    </tr>\n",
       "    <tr>\n",
       "      <th>9743</th>\n",
       "      <td>What causes Brittle diabetes ?</td>\n",
       "      <td>What causes brittle diabetes? There are multip...</td>\n",
       "      <td>Brittle diabetes is primarily caused by a gene...</td>\n",
       "    </tr>\n",
       "  </tbody>\n",
       "</table>\n",
       "</div>"
      ],
      "text/plain": [
       "                                                question  \\\n",
       "13212     What is (are) ataxia with oculomotor apraxia ?   \n",
       "4942              What are the symptoms of Anencephaly ?   \n",
       "3730   What are the genetic changes related to D-bifu...   \n",
       "5979   What are the symptoms of Hypersensitivity Pneu...   \n",
       "9743                      What causes Brittle diabetes ?   \n",
       "\n",
       "                                                  answer  \\\n",
       "13212  Ataxia with oculomotor apraxia is a condition ...   \n",
       "4942   What are the signs and symptoms of Anencephaly...   \n",
       "3730   D-bifunctional protein deficiency is caused by...   \n",
       "5979   Signs and symptoms of hypersensitivity pneumon...   \n",
       "9743   What causes brittle diabetes? There are multip...   \n",
       "\n",
       "                                        incorrect_answer  \n",
       "13212  Ataxia with oculomotor apraxia (AOA) is a sing...  \n",
       "4942   Anencephaly primarily presents with symptoms r...  \n",
       "3730   Genetic changes in D-bifunctional protein defi...  \n",
       "5979   Hypersensitivity Pneumonitis symptoms vary dep...  \n",
       "9743   Brittle diabetes is primarily caused by a gene...  "
      ]
     },
     "execution_count": 14,
     "metadata": {},
     "output_type": "execute_result"
    }
   ],
   "source": [
    "print(eval_df.shape)\n",
    "eval_df.head()"
   ]
  },
  {
   "cell_type": "code",
   "execution_count": 5,
   "metadata": {},
   "outputs": [],
   "source": [
    "GROQ_API_KEY = os.environ[\"GROQ_API_KEY\"]\n",
    "client = Groq(api_key=GROQ_API_KEY)"
   ]
  },
  {
   "cell_type": "code",
   "execution_count": 6,
   "metadata": {},
   "outputs": [],
   "source": [
    "eval_complete_df = eval_df.copy()\n",
    "eval_complete_df[\"base_model_answer\"] = None"
   ]
  },
  {
   "cell_type": "code",
   "execution_count": 7,
   "metadata": {},
   "outputs": [
    {
     "name": "stdout",
     "output_type": "stream",
     "text": [
      "Error code: 429 - {'error': {'message': 'Rate limit reached for model `llama3-8b-8192` in organization `org_01jf03y460eaytqmjbmbyx4cvx` on : Limit 500000, Used 500615, Requested 18. Please try again in 1m49.386999999s. Visit https://console.groq.com/docs/rate-limits for more information.', 'type': '', 'code': 'rate_limit_exceeded'}}\n"
     ]
    }
   ],
   "source": [
    "for idx, question in eval_complete_df[\n",
    "    eval_complete_df.base_model_answer.isna()\n",
    "].question.items():\n",
    "    try:\n",
    "        groq_response = client.chat.completions.create(\n",
    "            messages=[\n",
    "                {\n",
    "                    \"role\": \"user\",\n",
    "                    \"content\": question,\n",
    "                }\n",
    "            ],\n",
    "            model=\"llama3-8b-8192\",\n",
    "            temperature=0,\n",
    "        )\n",
    "        eval_complete_df.loc[idx, \"base_model_answer\"] = groq_response.choices[\n",
    "            0\n",
    "        ].message.content\n",
    "        # print(idx)\n",
    "    except RateLimitError as e:\n",
    "        print(e)\n",
    "        break"
   ]
  },
  {
   "cell_type": "code",
   "execution_count": 9,
   "metadata": {},
   "outputs": [
    {
     "data": {
      "text/plain": [
       "base_model_answer\n",
       "False    1921\n",
       "True     1075\n",
       "Name: count, dtype: int64"
      ]
     },
     "execution_count": 9,
     "metadata": {},
     "output_type": "execute_result"
    }
   ],
   "source": [
    "eval_complete_df.base_model_answer.notna().value_counts()"
   ]
  },
  {
   "cell_type": "code",
   "execution_count": 10,
   "metadata": {},
   "outputs": [],
   "source": [
    "eval_complete_df.to_parquet(\"base_model_answers_eval.parquet.gz\")"
   ]
  },
  {
   "cell_type": "code",
   "execution_count": 11,
   "metadata": {},
   "outputs": [
    {
     "data": {
      "text/html": [
       "<div>\n",
       "<style scoped>\n",
       "    .dataframe tbody tr th:only-of-type {\n",
       "        vertical-align: middle;\n",
       "    }\n",
       "\n",
       "    .dataframe tbody tr th {\n",
       "        vertical-align: top;\n",
       "    }\n",
       "\n",
       "    .dataframe thead th {\n",
       "        text-align: right;\n",
       "    }\n",
       "</style>\n",
       "<table border=\"1\" class=\"dataframe\">\n",
       "  <thead>\n",
       "    <tr style=\"text-align: right;\">\n",
       "      <th></th>\n",
       "      <th>question</th>\n",
       "      <th>model_answer</th>\n",
       "    </tr>\n",
       "  </thead>\n",
       "  <tbody>\n",
       "    <tr>\n",
       "      <th>0</th>\n",
       "      <td>What is (are) ataxia with oculomotor apraxia ?</td>\n",
       "      <td>What is (are) ataxia with oculomotor apraxia ?...</td>\n",
       "    </tr>\n",
       "    <tr>\n",
       "      <th>1</th>\n",
       "      <td>What are the symptoms of Anencephaly ?</td>\n",
       "      <td>What are the symptoms of Anencephaly ? The sym...</td>\n",
       "    </tr>\n",
       "    <tr>\n",
       "      <th>2</th>\n",
       "      <td>What are the genetic changes related to D-bifu...</td>\n",
       "      <td>What are the genetic changes related to D-bifu...</td>\n",
       "    </tr>\n",
       "    <tr>\n",
       "      <th>3</th>\n",
       "      <td>What are the symptoms of Hypersensitivity Pneu...</td>\n",
       "      <td>What are the symptoms of Hypersensitivity Pneu...</td>\n",
       "    </tr>\n",
       "    <tr>\n",
       "      <th>4</th>\n",
       "      <td>What causes Brittle diabetes ?</td>\n",
       "      <td>What causes Brittle diabetes ? Brittle diabete...</td>\n",
       "    </tr>\n",
       "  </tbody>\n",
       "</table>\n",
       "</div>"
      ],
      "text/plain": [
       "                                            question  \\\n",
       "0     What is (are) ataxia with oculomotor apraxia ?   \n",
       "1             What are the symptoms of Anencephaly ?   \n",
       "2  What are the genetic changes related to D-bifu...   \n",
       "3  What are the symptoms of Hypersensitivity Pneu...   \n",
       "4                     What causes Brittle diabetes ?   \n",
       "\n",
       "                                        model_answer  \n",
       "0  What is (are) ataxia with oculomotor apraxia ?...  \n",
       "1  What are the symptoms of Anencephaly ? The sym...  \n",
       "2  What are the genetic changes related to D-bifu...  \n",
       "3  What are the symptoms of Hypersensitivity Pneu...  \n",
       "4  What causes Brittle diabetes ? Brittle diabete...  "
      ]
     },
     "execution_count": 11,
     "metadata": {},
     "output_type": "execute_result"
    }
   ],
   "source": [
    "finetuned_model_responses = json.load(open(\"partial_eval_results.json\"))\n",
    "finetuned_model_df = pd.DataFrame(finetuned_model_responses)\n",
    "finetuned_model_df.head()"
   ]
  },
  {
   "cell_type": "code",
   "execution_count": 12,
   "metadata": {},
   "outputs": [],
   "source": [
    "eval_complete_df = eval_complete_df.iloc[: len(finetuned_model_df)].copy()"
   ]
  },
  {
   "cell_type": "code",
   "execution_count": 13,
   "metadata": {},
   "outputs": [],
   "source": [
    "eval_complete_df[\"finetuned_question\"] = finetuned_model_df.question.values\n",
    "eval_complete_df[\"finetuned_model_answer\"] = finetuned_model_df.model_answer.values"
   ]
  },
  {
   "cell_type": "markdown",
   "metadata": {},
   "source": [
    "### Sanity check\n",
    "\n",
    "Check if series are aligned: evaluation dataset question and finetuned model dataset questions should match"
   ]
  },
  {
   "cell_type": "code",
   "execution_count": 14,
   "metadata": {},
   "outputs": [],
   "source": [
    "pd.testing.assert_series_equal(\n",
    "    eval_complete_df.question, eval_complete_df.finetuned_question, check_names=False\n",
    ")"
   ]
  },
  {
   "cell_type": "markdown",
   "metadata": {},
   "source": [
    "### Drop samples with no base model answers"
   ]
  },
  {
   "cell_type": "code",
   "execution_count": 18,
   "metadata": {},
   "outputs": [
    {
     "name": "stdout",
     "output_type": "stream",
     "text": [
      "(1075, 6)\n"
     ]
    }
   ],
   "source": [
    "eval_complete_df = eval_complete_df.loc[eval_complete_df.base_model_answer.notna()]\n",
    "print(eval_complete_df.shape)"
   ]
  },
  {
   "cell_type": "markdown",
   "metadata": {},
   "source": [
    "# Evaluate BLEU and ROUGE metrics\n",
    "\n",
    "Let's start with the simplest set of metrics, based on comparing ngrams of the expected answer and the model response"
   ]
  },
  {
   "cell_type": "code",
   "execution_count": 19,
   "metadata": {},
   "outputs": [],
   "source": [
    "bleu_evaluator = evaluate.load(\"bleu\")"
   ]
  },
  {
   "cell_type": "code",
   "execution_count": 20,
   "metadata": {},
   "outputs": [
    {
     "name": "stdout",
     "output_type": "stream",
     "text": [
      "{'bleu': 0.039157648674871835, 'precisions': [0.24448238776335626, 0.0588996883041488, 0.01980360367850495, 0.008244448714713366], 'brevity_penalty': 1.0, 'length_ratio': 1.6129225956388464, 'translation_length': 435152, 'reference_length': 269791}\n"
     ]
    }
   ],
   "source": [
    "base_model_bleu = bleu_evaluator.compute(\n",
    "    predictions=eval_complete_df.base_model_answer.values,\n",
    "    references=eval_complete_df.answer.values,\n",
    ")\n",
    "print(base_model_bleu)"
   ]
  },
  {
   "cell_type": "code",
   "execution_count": 21,
   "metadata": {},
   "outputs": [
    {
     "name": "stdout",
     "output_type": "stream",
     "text": [
      "{'bleu': 0.07984662735726453, 'precisions': [0.44545726737416413, 0.1864897466827503, 0.12229234871241014, 0.09623988576868157], 'brevity_penalty': 0.45154675808133105, 'length_ratio': 0.5570793688447724, 'translation_length': 150295, 'reference_length': 269791}\n"
     ]
    }
   ],
   "source": [
    "final_model_bleu = bleu_evaluator.compute(\n",
    "    predictions=eval_complete_df.finetuned_model_answer.values,\n",
    "    references=eval_complete_df.answer.values,\n",
    ")\n",
    "print(final_model_bleu)"
   ]
  },
  {
   "cell_type": "code",
   "execution_count": 46,
   "metadata": {},
   "outputs": [
    {
     "data": {
      "text/plain": [
       "Llama3 8B (base model)    0.039158\n",
       "Fine tuned model          0.079847\n",
       "Improvement                103.91%\n",
       "dtype: object"
      ]
     },
     "execution_count": 46,
     "metadata": {},
     "output_type": "execute_result"
    }
   ],
   "source": [
    "bleu_compare = pd.Series(\n",
    "    {\n",
    "        \"Llama3 8B (base model)\": base_model_bleu[\"bleu\"],\n",
    "        \"Fine tuned model\": final_model_bleu[\"bleu\"],\n",
    "    }\n",
    ")\n",
    "bleu_compare[\"Improvement\"] = (bleu_compare.pct_change()).map(\"{:.2%}\".format).iloc[1]\n",
    "bleu_compare"
   ]
  },
  {
   "cell_type": "code",
   "execution_count": 47,
   "metadata": {},
   "outputs": [
    {
     "data": {
      "image/png": "[encoded data removed]",
      "text/plain": [
       "<Figure size 400x300 with 1 Axes>"
      ]
     },
     "metadata": {},
     "output_type": "display_data"
    }
   ],
   "source": [
    "ax = bleu_compare.iloc[:2].plot.bar(figsize=(4, 3))\n",
    "ax.set_title(\"BLEU score\")\n",
    "_ = plt.xticks(rotation=0)"
   ]
  },
  {
   "cell_type": "code",
   "execution_count": 23,
   "metadata": {},
   "outputs": [],
   "source": [
    "rouge_evaluator = evaluate.load(\"rouge\")"
   ]
  },
  {
   "cell_type": "code",
   "execution_count": 24,
   "metadata": {},
   "outputs": [
    {
     "name": "stdout",
     "output_type": "stream",
     "text": [
      "{'rouge1': 0.2920768173035096, 'rouge2': 0.07439805413646888, 'rougeL': 0.15455779600466904, 'rougeLsum': 0.21825463762500416}\n"
     ]
    }
   ],
   "source": [
    "base_model_rouge = rouge_evaluator.compute(\n",
    "    predictions=eval_complete_df.base_model_answer.values,\n",
    "    references=eval_complete_df.answer.values,\n",
    ")\n",
    "print(base_model_rouge)"
   ]
  },
  {
   "cell_type": "code",
   "execution_count": 25,
   "metadata": {},
   "outputs": [
    {
     "name": "stdout",
     "output_type": "stream",
     "text": [
      "{'rouge1': 0.336616829876394, 'rouge2': 0.1509000042342874, 'rougeL': 0.22936154993456587, 'rougeLsum': 0.25913932692223796}\n"
     ]
    }
   ],
   "source": [
    "final_model_rouge = rouge_evaluator.compute(\n",
    "    predictions=eval_complete_df.finetuned_model_answer.values,\n",
    "    references=eval_complete_df.answer.values,\n",
    ")\n",
    "print(final_model_rouge)"
   ]
  },
  {
   "cell_type": "code",
   "execution_count": 26,
   "metadata": {},
   "outputs": [
    {
     "data": {
      "text/html": [
       "<div>\n",
       "<style scoped>\n",
       "    .dataframe tbody tr th:only-of-type {\n",
       "        vertical-align: middle;\n",
       "    }\n",
       "\n",
       "    .dataframe tbody tr th {\n",
       "        vertical-align: top;\n",
       "    }\n",
       "\n",
       "    .dataframe thead th {\n",
       "        text-align: right;\n",
       "    }\n",
       "</style>\n",
       "<table border=\"1\" class=\"dataframe\">\n",
       "  <thead>\n",
       "    <tr style=\"text-align: right;\">\n",
       "      <th></th>\n",
       "      <th>rouge1</th>\n",
       "      <th>rouge2</th>\n",
       "      <th>rougeL</th>\n",
       "      <th>rougeLsum</th>\n",
       "    </tr>\n",
       "  </thead>\n",
       "  <tbody>\n",
       "    <tr>\n",
       "      <th>Llama3 8B (base model)</th>\n",
       "      <td>0.292077</td>\n",
       "      <td>0.074398</td>\n",
       "      <td>0.154558</td>\n",
       "      <td>0.218255</td>\n",
       "    </tr>\n",
       "    <tr>\n",
       "      <th>Fine tuned model</th>\n",
       "      <td>0.336617</td>\n",
       "      <td>0.150900</td>\n",
       "      <td>0.229362</td>\n",
       "      <td>0.259139</td>\n",
       "    </tr>\n",
       "  </tbody>\n",
       "</table>\n",
       "</div>"
      ],
      "text/plain": [
       "                          rouge1    rouge2    rougeL  rougeLsum\n",
       "Llama3 8B (base model)  0.292077  0.074398  0.154558   0.218255\n",
       "Fine tuned model        0.336617  0.150900  0.229362   0.259139"
      ]
     },
     "execution_count": 26,
     "metadata": {},
     "output_type": "execute_result"
    }
   ],
   "source": [
    "rouge_compare_df = pd.DataFrame(\n",
    "    [base_model_rouge, final_model_rouge],\n",
    "    index=[\"Llama3 8B (base model)\", \"Fine tuned model\"],\n",
    ")\n",
    "rouge_compare_df"
   ]
  },
  {
   "cell_type": "markdown",
   "metadata": {},
   "source": [
    "### Rouge metrics description\n",
    "\n",
    "ROUGE-N - Measures the overlap of n-grams between the system and the reference summaries. For example, ROUGE-1 refers to the overlap of unigrams (each word), while ROUGE-2 refers to the overlap of bigrams (two consecutive words).  \n",
    "  \n",
    "ROUGE-L - Based on the length of the Longest Common Subsequence (LCS). Calculates the weighted harmonic mean (or f-measure) by combining the precision score and the recall score.  \n",
    "*sentence-level*: Compute longest common subsequence (LCS) between two pieces of text. Newlines are ignored.  \n",
    "*summary-level*: Newlines in the text are interpreted as sentence boundaries, and the LCS is computed between each pair of reference and candidate sentences. This is the ROUGE-L reported in the original paper.  \n"
   ]
  },
  {
   "cell_type": "code",
   "execution_count": 32,
   "metadata": {},
   "outputs": [
    {
     "data": {
      "text/html": [
       "<style type=\"text/css\">\n",
       "#T_ad0ab_row0_col0 {\n",
       "  background-color: #046299;\n",
       "  color: #f1f1f1;\n",
       "}\n",
       "#T_ad0ab_row0_col1 {\n",
       "  background-color: #fff7fb;\n",
       "  color: #000000;\n",
       "}\n",
       "#T_ad0ab_row0_col2 {\n",
       "  background-color: #bdc8e1;\n",
       "  color: #000000;\n",
       "}\n",
       "#T_ad0ab_row0_col3 {\n",
       "  background-color: #5c9fc9;\n",
       "  color: #f1f1f1;\n",
       "}\n",
       "#T_ad0ab_row1_col0 {\n",
       "  background-color: #023858;\n",
       "  color: #f1f1f1;\n",
       "}\n",
       "#T_ad0ab_row1_col1 {\n",
       "  background-color: #c2cbe2;\n",
       "  color: #000000;\n",
       "}\n",
       "#T_ad0ab_row1_col2 {\n",
       "  background-color: #4897c4;\n",
       "  color: #f1f1f1;\n",
       "}\n",
       "#T_ad0ab_row1_col3 {\n",
       "  background-color: #167bb6;\n",
       "  color: #f1f1f1;\n",
       "}\n",
       "</style>\n",
       "<table id=\"T_ad0ab\">\n",
       "  <thead>\n",
       "    <tr>\n",
       "      <th class=\"blank level0\" >&nbsp;</th>\n",
       "      <th id=\"T_ad0ab_level0_col0\" class=\"col_heading level0 col0\" >ROUGE-1</th>\n",
       "      <th id=\"T_ad0ab_level0_col1\" class=\"col_heading level0 col1\" >ROUGE-2</th>\n",
       "      <th id=\"T_ad0ab_level0_col2\" class=\"col_heading level0 col2\" >ROUGE-L sentence-level</th>\n",
       "      <th id=\"T_ad0ab_level0_col3\" class=\"col_heading level0 col3\" >ROUTE-L summary-level</th>\n",
       "    </tr>\n",
       "  </thead>\n",
       "  <tbody>\n",
       "    <tr>\n",
       "      <th id=\"T_ad0ab_level0_row0\" class=\"row_heading level0 row0\" >Llama3 8B (base model)</th>\n",
       "      <td id=\"T_ad0ab_row0_col0\" class=\"data row0 col0\" >0.292000</td>\n",
       "      <td id=\"T_ad0ab_row0_col1\" class=\"data row0 col1\" >0.074000</td>\n",
       "      <td id=\"T_ad0ab_row0_col2\" class=\"data row0 col2\" >0.155000</td>\n",
       "      <td id=\"T_ad0ab_row0_col3\" class=\"data row0 col3\" >0.218000</td>\n",
       "    </tr>\n",
       "    <tr>\n",
       "      <th id=\"T_ad0ab_level0_row1\" class=\"row_heading level0 row1\" >Fine tuned model</th>\n",
       "      <td id=\"T_ad0ab_row1_col0\" class=\"data row1 col0\" >0.337000</td>\n",
       "      <td id=\"T_ad0ab_row1_col1\" class=\"data row1 col1\" >0.151000</td>\n",
       "      <td id=\"T_ad0ab_row1_col2\" class=\"data row1 col2\" >0.229000</td>\n",
       "      <td id=\"T_ad0ab_row1_col3\" class=\"data row1 col3\" >0.259000</td>\n",
       "    </tr>\n",
       "  </tbody>\n",
       "</table>\n"
      ],
      "text/plain": [
       "<pandas.io.formats.style.Styler at 0x7fc9fc9b2c70>"
      ]
     },
     "execution_count": 32,
     "metadata": {},
     "output_type": "execute_result"
    }
   ],
   "source": [
    "rouge_compare_df = rouge_compare_df.rename(\n",
    "    columns={\n",
    "        \"rouge1\": \"ROUGE-1\",\n",
    "        \"rouge2\": \"ROUGE-2\",\n",
    "        \"rougeL\": \"ROUGE-L sentence-level\",\n",
    "        \"rougeLsum\": \"ROUTE-L summary-level\",\n",
    "    }\n",
    ")\n",
    "rouge_compare_df.round(3).style.background_gradient(axis=None)"
   ]
  },
  {
   "cell_type": "code",
   "execution_count": 39,
   "metadata": {},
   "outputs": [
    {
     "data": {
      "text/html": [
       "<div>\n",
       "<style scoped>\n",
       "    .dataframe tbody tr th:only-of-type {\n",
       "        vertical-align: middle;\n",
       "    }\n",
       "\n",
       "    .dataframe tbody tr th {\n",
       "        vertical-align: top;\n",
       "    }\n",
       "\n",
       "    .dataframe thead th {\n",
       "        text-align: right;\n",
       "    }\n",
       "</style>\n",
       "<table border=\"1\" class=\"dataframe\">\n",
       "  <thead>\n",
       "    <tr style=\"text-align: right;\">\n",
       "      <th></th>\n",
       "      <th>Llama3 8B (base model)</th>\n",
       "      <th>Fine tuned model</th>\n",
       "      <th>Improvement</th>\n",
       "    </tr>\n",
       "  </thead>\n",
       "  <tbody>\n",
       "    <tr>\n",
       "      <th>ROUGE-1</th>\n",
       "      <td>0.292077</td>\n",
       "      <td>0.336617</td>\n",
       "      <td>15.25%</td>\n",
       "    </tr>\n",
       "    <tr>\n",
       "      <th>ROUGE-2</th>\n",
       "      <td>0.074398</td>\n",
       "      <td>0.150900</td>\n",
       "      <td>102.83%</td>\n",
       "    </tr>\n",
       "    <tr>\n",
       "      <th>ROUGE-L sentence-level</th>\n",
       "      <td>0.154558</td>\n",
       "      <td>0.229362</td>\n",
       "      <td>48.40%</td>\n",
       "    </tr>\n",
       "    <tr>\n",
       "      <th>ROUTE-L summary-level</th>\n",
       "      <td>0.218255</td>\n",
       "      <td>0.259139</td>\n",
       "      <td>18.73%</td>\n",
       "    </tr>\n",
       "  </tbody>\n",
       "</table>\n",
       "</div>"
      ],
      "text/plain": [
       "                        Llama3 8B (base model)  Fine tuned model Improvement\n",
       "ROUGE-1                               0.292077          0.336617      15.25%\n",
       "ROUGE-2                               0.074398          0.150900     102.83%\n",
       "ROUGE-L sentence-level                0.154558          0.229362      48.40%\n",
       "ROUTE-L summary-level                 0.218255          0.259139      18.73%"
      ]
     },
     "execution_count": 39,
     "metadata": {},
     "output_type": "execute_result"
    }
   ],
   "source": [
    "rouge_compare_df.T.assign(\n",
    "    Improvement=(rouge_compare_df.pct_change()).map(\"{:.2%}\".format).iloc[1]\n",
    ")"
   ]
  },
  {
   "cell_type": "code",
   "execution_count": 28,
   "metadata": {},
   "outputs": [
    {
     "data": {
      "image/png": "[encoded data removed]",
      "text/plain": [
       "<Figure size 800x600 with 4 Axes>"
      ]
     },
     "metadata": {},
     "output_type": "display_data"
    }
   ],
   "source": [
    "fig, ax_all = plt.subplots(2, 2, figsize=(8, 6))\n",
    "\n",
    "for col, ax in zip(rouge_compare_df.columns, ax_all.flatten()):\n",
    "    rouge_compare_df[col].plot.bar(ax=ax)\n",
    "    ax.set_title(col)\n",
    "    ax.tick_params(axis=\"x\", rotation=0)\n",
    "fig.tight_layout()"
   ]
  },
  {
   "cell_type": "code",
   "execution_count": 49,
   "metadata": {},
   "outputs": [],
   "source": [
    "eval_complete_df.to_parquet(\"eval_complete_df.parquet.gz\")\n",
    "loaded = pd.read_parquet(\"eval_complete_df.parquet.gz\")\n",
    "pd.testing.assert_frame_equal(eval_complete_df, loaded)"
   ]
  },
  {
   "cell_type": "code",
   "execution_count": 6,
   "metadata": {},
   "outputs": [],
   "source": [
    "eval_complete_df = pd.read_parquet(\"eval_complete_df.parquet.gz\")"
   ]
  },
  {
   "cell_type": "markdown",
   "metadata": {},
   "source": [
    "# Sentence Transformers (SBERT) similarity evaluation\n",
    "\n",
    "In this more advanced evaluation, we will use a Sentence Transformers model to encode the correct answer, the base model's response, and the fine-tuned model's response, and then compare the similarity between the correct answer and each model's response."
   ]
  },
  {
   "cell_type": "code",
   "execution_count": null,
   "metadata": {},
   "outputs": [],
   "source": [
    "from transformers import pipeline\n",
    "from sentence_transformers import SentenceTransformer, util\n",
    "import numpy as np\n",
    "\n",
    "similarity_model = SentenceTransformer(\"stsb-roberta-large\")\n",
    "\n",
    "\n",
    "# Compute semantic similarity\n",
    "base_scores = [\n",
    "    util.pytorch_cos_sim(similarity_model.encode(ref), similarity_model.encode(resp))[\n",
    "        0\n",
    "    ][0].item()\n",
    "    for ref, resp in zip(\n",
    "        eval_complete_df.answer.values, eval_complete_df.base_model_answer.values\n",
    "    )\n",
    "]\n",
    "fine_tuned_scores = [\n",
    "    util.pytorch_cos_sim(similarity_model.encode(ref), similarity_model.encode(resp))[\n",
    "        0\n",
    "    ][0].item()\n",
    "    for ref, resp in zip(\n",
    "        eval_complete_df.answer.values, eval_complete_df.finetuned_model_answer.values\n",
    "    )\n",
    "]"
   ]
  },
  {
   "cell_type": "markdown",
   "metadata": {},
   "source": [
    "### Compare average similarity score"
   ]
  },
  {
   "cell_type": "code",
   "execution_count": 8,
   "metadata": {},
   "outputs": [
    {
     "data": {
      "text/plain": [
       "Llama3 8B (base model)    0.624496\n",
       "Fine tuned model          0.632165\n",
       "Improvement                  1.23%\n",
       "dtype: object"
      ]
     },
     "execution_count": 8,
     "metadata": {},
     "output_type": "execute_result"
    }
   ],
   "source": [
    "sbert_compare = pd.Series(\n",
    "    {\n",
    "        \"Llama3 8B (base model)\": np.mean(base_scores),\n",
    "        \"Fine tuned model\": np.mean(fine_tuned_scores),\n",
    "    }\n",
    ")\n",
    "sbert_compare[\"Improvement\"] = (sbert_compare.pct_change()).map(\"{:.2%}\".format).iloc[1]\n",
    "sbert_compare"
   ]
  },
  {
   "cell_type": "markdown",
   "metadata": {},
   "source": [
    "### Compare median similarity score"
   ]
  },
  {
   "cell_type": "code",
   "execution_count": 16,
   "metadata": {},
   "outputs": [
    {
     "data": {
      "text/plain": [
       "Llama3 8B (base model)    0.624317\n",
       "Fine tuned model          0.648657\n",
       "Improvement                  3.90%\n",
       "dtype: object"
      ]
     },
     "execution_count": 16,
     "metadata": {},
     "output_type": "execute_result"
    }
   ],
   "source": [
    "sbert_compare_median = pd.Series(\n",
    "    {\n",
    "        \"Llama3 8B (base model)\": np.median(base_scores),\n",
    "        \"Fine tuned model\": np.median(fine_tuned_scores),\n",
    "    }\n",
    ")\n",
    "sbert_compare_median[\"Improvement\"] = (\n",
    "    (sbert_compare_median.pct_change()).map(\"{:.2%}\".format).iloc[1]\n",
    ")\n",
    "sbert_compare_median"
   ]
  },
  {
   "cell_type": "code",
   "execution_count": 10,
   "metadata": {},
   "outputs": [
    {
     "data": {
      "text/plain": [
       "<Axes: >"
      ]
     },
     "execution_count": 10,
     "metadata": {},
     "output_type": "execute_result"
    },
    {
     "data": {
      "image/png": "[encoded data removed]",
      "text/plain": [
       "<Figure size 640x480 with 1 Axes>"
      ]
     },
     "metadata": {},
     "output_type": "display_data"
    }
   ],
   "source": [
    "sns.boxplot(\n",
    "    pd.DataFrame(\n",
    "        {\n",
    "            \"Llama3 8B (base model)\": base_scores,\n",
    "            \"Fine tuned model\": fine_tuned_scores,\n",
    "        }\n",
    "    )\n",
    ")"
   ]
  },
  {
   "cell_type": "code",
   "execution_count": 25,
   "metadata": {},
   "outputs": [
    {
     "data": {
      "image/png": "[encoded data removed]",
      "text/plain": [
       "<Figure size 400x300 with 1 Axes>"
      ]
     },
     "metadata": {},
     "output_type": "display_data"
    }
   ],
   "source": [
    "ax = sbert_compare.iloc[:2].plot.bar(figsize=(4, 3))\n",
    "ax.set_title(\"Sentence Transformer average similarity score\")\n",
    "ax.set_ylim((0.5, 0.7))\n",
    "_ = plt.xticks(rotation=0)"
   ]
  },
  {
   "cell_type": "code",
   "execution_count": 26,
   "metadata": {},
   "outputs": [
    {
     "data": {
      "image/png": "[encoded data removed]",
      "text/plain": [
       "<Figure size 400x300 with 1 Axes>"
      ]
     },
     "metadata": {},
     "output_type": "display_data"
    }
   ],
   "source": [
    "ax = sbert_compare_median.iloc[:2].plot.bar(figsize=(4, 3))\n",
    "ax.set_title(\"Sentence Transformer median similarity score\")\n",
    "ax.set_ylim((0.5, 0.7))\n",
    "_ = plt.xticks(rotation=0)"
   ]
  },
  {
   "cell_type": "code",
   "execution_count": 36,
   "metadata": {},
   "outputs": [
    {
     "data": {
      "text/html": [
       "<div>\n",
       "<style scoped>\n",
       "    .dataframe tbody tr th:only-of-type {\n",
       "        vertical-align: middle;\n",
       "    }\n",
       "\n",
       "    .dataframe tbody tr th {\n",
       "        vertical-align: top;\n",
       "    }\n",
       "\n",
       "    .dataframe thead th {\n",
       "        text-align: right;\n",
       "    }\n",
       "</style>\n",
       "<table border=\"1\" class=\"dataframe\">\n",
       "  <thead>\n",
       "    <tr style=\"text-align: right;\">\n",
       "      <th></th>\n",
       "      <th>base</th>\n",
       "      <th>finetune</th>\n",
       "      <th>diff</th>\n",
       "    </tr>\n",
       "  </thead>\n",
       "  <tbody>\n",
       "    <tr>\n",
       "      <th>522</th>\n",
       "      <td>0.670254</td>\n",
       "      <td>0.774847</td>\n",
       "      <td>0.104593</td>\n",
       "    </tr>\n",
       "    <tr>\n",
       "      <th>393</th>\n",
       "      <td>0.576144</td>\n",
       "      <td>0.551199</td>\n",
       "      <td>-0.024945</td>\n",
       "    </tr>\n",
       "    <tr>\n",
       "      <th>201</th>\n",
       "      <td>0.612073</td>\n",
       "      <td>0.558032</td>\n",
       "      <td>-0.054042</td>\n",
       "    </tr>\n",
       "    <tr>\n",
       "      <th>203</th>\n",
       "      <td>0.575629</td>\n",
       "      <td>0.597081</td>\n",
       "      <td>0.021451</td>\n",
       "    </tr>\n",
       "    <tr>\n",
       "      <th>631</th>\n",
       "      <td>0.592271</td>\n",
       "      <td>0.589947</td>\n",
       "      <td>-0.002324</td>\n",
       "    </tr>\n",
       "  </tbody>\n",
       "</table>\n",
       "</div>"
      ],
      "text/plain": [
       "         base  finetune      diff\n",
       "522  0.670254  0.774847  0.104593\n",
       "393  0.576144  0.551199 -0.024945\n",
       "201  0.612073  0.558032 -0.054042\n",
       "203  0.575629  0.597081  0.021451\n",
       "631  0.592271  0.589947 -0.002324"
      ]
     },
     "execution_count": 36,
     "metadata": {},
     "output_type": "execute_result"
    }
   ],
   "source": [
    "sim_scores = pd.DataFrame(\n",
    "    {\n",
    "        \"base\": base_scores,\n",
    "        \"finetune\": fine_tuned_scores,\n",
    "    }\n",
    ")\n",
    "sample_sim_scores = (\n",
    "    sim_scores.assign(diff=sim_scores.finetune - sim_scores.base)\n",
    "    .sort_values(\"diff\", ascending=False)\n",
    "    .sample(5, random_state=0)\n",
    ")\n",
    "sample_sim_scores"
   ]
  },
  {
   "cell_type": "code",
   "execution_count": 59,
   "metadata": {},
   "outputs": [
    {
     "data": {
      "text/html": [
       "<div>\n",
       "<style scoped>\n",
       "    .dataframe tbody tr th:only-of-type {\n",
       "        vertical-align: middle;\n",
       "    }\n",
       "\n",
       "    .dataframe tbody tr th {\n",
       "        vertical-align: top;\n",
       "    }\n",
       "\n",
       "    .dataframe thead th {\n",
       "        text-align: right;\n",
       "    }\n",
       "</style>\n",
       "<table border=\"1\" class=\"dataframe\">\n",
       "  <thead>\n",
       "    <tr style=\"text-align: right;\">\n",
       "      <th></th>\n",
       "      <th>base</th>\n",
       "      <th>finetune</th>\n",
       "      <th>diff</th>\n",
       "    </tr>\n",
       "  </thead>\n",
       "  <tbody>\n",
       "    <tr>\n",
       "      <th>189</th>\n",
       "      <td>0.410467</td>\n",
       "      <td>0.920789</td>\n",
       "      <td>0.510323</td>\n",
       "    </tr>\n",
       "    <tr>\n",
       "      <th>913</th>\n",
       "      <td>0.326739</td>\n",
       "      <td>0.828728</td>\n",
       "      <td>0.501989</td>\n",
       "    </tr>\n",
       "    <tr>\n",
       "      <th>803</th>\n",
       "      <td>0.392343</td>\n",
       "      <td>0.861721</td>\n",
       "      <td>0.469378</td>\n",
       "    </tr>\n",
       "    <tr>\n",
       "      <th>626</th>\n",
       "      <td>0.372567</td>\n",
       "      <td>0.838672</td>\n",
       "      <td>0.466105</td>\n",
       "    </tr>\n",
       "  </tbody>\n",
       "</table>\n",
       "</div>"
      ],
      "text/plain": [
       "         base  finetune      diff\n",
       "189  0.410467  0.920789  0.510323\n",
       "913  0.326739  0.828728  0.501989\n",
       "803  0.392343  0.861721  0.469378\n",
       "626  0.372567  0.838672  0.466105"
      ]
     },
     "execution_count": 59,
     "metadata": {},
     "output_type": "execute_result"
    }
   ],
   "source": [
    "top_performance = (\n",
    "    sim_scores.assign(diff=sim_scores.finetune - sim_scores.base)\n",
    "    .sort_values(\"diff\", ascending=False)\n",
    "    .head(4)\n",
    ")\n",
    "top_performance"
   ]
  },
  {
   "cell_type": "code",
   "execution_count": 46,
   "metadata": {},
   "outputs": [],
   "source": [
    "def print_sample(row):\n",
    "    print(f\"QUESTION\\n{'-' * 30}\\n{row.question}\\n\\n\")\n",
    "    print(f\"CORRECT ANSWER\\n{'-' * 30}\\n{row.answer}\\n\\n\")\n",
    "    print(f\"BASE MODEL RESPONSE\\n{'-' * 30}\\n{row.base_model_answer}\\n\\n\")\n",
    "    print(f\"FINE TUNED MODEL RESPONSE\\n{'-' * 30}\\n{row.finetuned_model_answer}\\n\\n\")"
   ]
  },
  {
   "cell_type": "code",
   "execution_count": 64,
   "metadata": {},
   "outputs": [
    {
     "name": "stdout",
     "output_type": "stream",
     "text": [
      "QUESTION\n",
      "------------------------------\n",
      "What is (are) Rheumatic Fever ?\n",
      "\n",
      "\n",
      "CORRECT ANSWER\n",
      "------------------------------\n",
      "Rheumatic fever is an inflammatory condition that may develop after infection with group A Streptococcus bacteria, such as strep throat or scarlet fever. It is primarily diagnosed in children between the ages of 6 and 16 and can affect the heart, joints, nervous system and/or skin. Early signs and symptoms include sore throat; swollen red tonsils; fever; headache; and/or muscle and joint aches. Some affected people develop rheumatic heart disease, which can lead to serious inflammation and scarring of the heart valves. It is not clear why some people who are infected with group A Streptococcus bacteria go on to develop rheumatic fever, while others do not; however, it appears that some families may have a genetic susceptibility to develop the condition. Treatment usually includes antibiotics and/or anti-inflammatory medications.\n",
      "Disclaimer: This information is for educational purposes only and should not be considered medical advice.  I cannot provide diagnoses.  Always consult with a qualified healthcare professional for any health concerns or before making any decisions related to your medical care.\n",
      "\n",
      "\n",
      "BASE MODEL RESPONSE\n",
      "------------------------------\n",
      "Rheumatic fever (RF) is a serious inflammatory disease that can occur in people of all ages, but it is most common in children and adolescents. It is caused by a bacterial infection, usually streptococcal pharyngitis (strep throat), and is characterized by inflammation of the joints, heart, skin, and brain.\n",
      "\n",
      "There are two main types of rheumatic fever:\n",
      "\n",
      "1. **Acute rheumatic fever (ARF)**: This is the most common form of the disease, and it occurs within 2-3 weeks after a strep throat infection. Symptoms include:\n",
      "\t* Fever\n",
      "\t* Joint pain and swelling (especially in the knees, elbows, and wrists)\n",
      "\t* Skin rash (erythema marginatum)\n",
      "\t* Carditis (inflammation of the heart)\n",
      "\t* Neurological symptoms (such as headache, confusion, and seizures)\n",
      "2. **Chronic rheumatic fever (CRF)**: This is a more severe and long-term form of the disease, which can occur months or even years after the initial strep throat infection. Symptoms include:\n",
      "\t* Recurring episodes of joint pain and swelling\n",
      "\t* Heart valve damage (leading to heart failure or arrhythmias)\n",
      "\t* Neurological symptoms (such as memory loss, personality changes, and seizures)\n",
      "\n",
      "Rheumatic fever is caused by an abnormal immune response to a streptococcal infection, which leads to the production of antibodies that attack the body's own tissues. The disease is more common in developing countries and in areas with poor living conditions.\n",
      "\n",
      "If left untreated, rheumatic fever can lead to serious complications, such as:\n",
      "\n",
      "* Heart valve damage\n",
      "* Heart failure\n",
      "* Arrhythmias\n",
      "* Neurological damage\n",
      "* Recurring episodes of joint pain and swelling\n",
      "\n",
      "Treatment for rheumatic fever typically involves antibiotics to eliminate the streptococcal infection, as well as medications to reduce inflammation and alleviate symptoms. In severe cases, hospitalization may be necessary to manage complications.\n",
      "\n",
      "Prevention is key, and this involves:\n",
      "\n",
      "* Prompt treatment of strep throat infections with antibiotics\n",
      "* Regular throat swabs to detect strep throat infections\n",
      "* Good hygiene practices, such as frequent handwashing and covering the mouth and nose when coughing or sneezing\n",
      "\n",
      "It's essential to seek medical attention if you or your child experiences symptoms of rheumatic fever, as early treatment can help prevent long-term damage and complications.\n",
      "\n",
      "\n",
      "FINE TUNED MODEL RESPONSE\n",
      "------------------------------\n",
      "What is (are) Rheumatic Fever ??\n",
      "Rheumatic fever is a disease that can occur after a strep throat infection. It can cause painful joints, a rash, and heart problems. It is most common in children ages 5 to 15.\n",
      "What causes Rheumatic Fever?\n",
      "Rheumatic fever is caused by a strep throat infection. The strep bacteria can also cause scarlet fever and tonsillitis.\n",
      "What are the signs and symptoms of Rheumatic Fever?\n",
      "The signs and symptoms of rheumatic fever may include:\n",
      "Joint pain and swelling, especially in the knees, ankles, elbows, and wrists\n",
      "A rash that looks like hives\n",
      "A red, raised rash on the palms of the hands and soles of the feet\n",
      "Swelling of the lymph nodes in\n",
      "\n",
      "\n"
     ]
    }
   ],
   "source": [
    "print_sample(eval_complete_df.iloc[522])"
   ]
  },
  {
   "cell_type": "code",
   "execution_count": null,
   "metadata": {},
   "outputs": [],
   "source": []
  }
 ],
 "metadata": {
  "kernelspec": {
   "display_name": "hf",
   "language": "python",
   "name": "python3"
  },
  "language_info": {
   "codemirror_mode": {
    "name": "ipython",
    "version": 3
   },
   "file_extension": ".py",
   "mimetype": "text/x-python",
   "name": "python",
   "nbconvert_exporter": "python",
   "pygments_lexer": "ipython3",
   "version": "3.9.6"
  }
 },
 "nbformat": 4,
 "nbformat_minor": 2
}
